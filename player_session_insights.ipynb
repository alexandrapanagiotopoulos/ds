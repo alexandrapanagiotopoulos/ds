{
 "cells": [
  {
   "cell_type": "markdown",
   "metadata": {},
   "source": [
    "Load data from file assignment_data.jsonl.bz2"
   ]
  },
  {
   "cell_type": "code",
   "execution_count": 1,
   "metadata": {},
   "outputs": [
    {
     "name": "stdout",
     "output_type": "stream",
     "text": [
      "+-------+-----+--------------------+--------------------+-------------------+\n",
      "|country|event|           player_id|          session_id|                 ts|\n",
      "+-------+-----+--------------------+--------------------+-------------------+\n",
      "|     PK|start|d6313e1fb7d247a6a...|674606b1-2270-428...|2016-11-22 20:40:50|\n",
      "|   null|  end|20ac16ebb30a47708...|16ca9d01-d240-452...|2016-11-18 06:24:50|\n",
      "|   null|  end|318e22b061b54042b...|5f933591-8cd5-414...|2016-11-16 18:01:37|\n",
      "|   null|  end|29bb390d9b1b4b4b9...|ef939180-692a-484...|2016-11-13 10:38:09|\n",
      "|     GH|start|a477ecabc3cc455cb...|4c55263e-66b2-481...|2016-11-29 19:31:43|\n",
      "|     SK|start|1ec36a67785046b3b...|3346a60a-0989-404...|2016-11-16 05:36:16|\n",
      "|     DE|start|9595af0063e94cb8a...|06830030-d091-428...|2016-11-07 01:18:09|\n",
      "|   null|  end|8d0e3cd4a25d4a089...|a78a4889-4bcf-45a...|2016-11-24 02:12:33|\n",
      "|   null|  end|e59f1fa31e144fd8b...|dd223ea6-0e6b-4dd...|2016-11-13 00:35:30|\n",
      "|   null|  end|fd8a1e9fff25471da...|3015bf71-4b28-4c9...|2016-11-21 01:18:57|\n",
      "|     FM|start|5fd71e49d9dc4053b...|1d9e6d4a-e1c0-402...|2016-11-08 23:39:07|\n",
      "|   null|  end|7eaf41e8264946cf9...|c650360a-3a6c-495...|2016-12-01 10:02:42|\n",
      "|     SC|start|4ac6fa82e7a84cad9...|b20c6b98-7f18-4ba...|2016-11-24 15:59:10|\n",
      "|     KG|start|a34a6188d03746eb8...|c522efe9-847a-47b...|2016-11-13 12:46:31|\n",
      "|     EE|start|85b7600411354ff3a...|58dd0153-026d-455...|2016-11-23 17:49:23|\n",
      "|   null|  end|25752b769f5744e98...|94483e5b-bebb-46c...|2016-11-16 18:03:50|\n",
      "|   null|  end|fc287863d671446db...|4f7e416d-fc11-4c3...|2016-12-01 04:53:15|\n",
      "|   null|  end|c408369703f940bb9...|75cbd945-817a-40a...|2016-11-10 23:21:49|\n",
      "|   null|  end|33e5f534cd074991a...|9d73326f-800a-466...|2016-11-13 04:06:08|\n",
      "|     GS|start|03c648a9437d401b8...|cd0f2f42-3ab2-450...|2016-11-29 22:01:36|\n",
      "+-------+-----+--------------------+--------------------+-------------------+\n",
      "only showing top 20 rows\n",
      "\n"
     ]
    }
   ],
   "source": [
    "from pyspark import SparkContext\n",
    "from pyspark.sql import SparkSession\n",
    "from pyspark.sql.types import StructField, StructType, StringType, TimestampType\n",
    "appName = \"Player Session Insights\"\n",
    "master = \"local\"\n",
    "\n",
    "# Create Spark session\n",
    "spark = SparkSession.builder \\\n",
    "    .appName(appName) \\\n",
    "    .master(master) \\\n",
    "    .getOrCreate()\n",
    "\n",
    "# Create a schema for the dataframe\n",
    "schema = StructType([\n",
    "    StructField('country', StringType(), True),\n",
    "    StructField('event', StringType(), True),\n",
    "    StructField('player_id', StringType(), True),\n",
    "    StructField('session_id', StringType(), True),\n",
    "    StructField('ts', TimestampType(), True)\n",
    "])\n",
    "\n",
    "# Create data frame\n",
    "json_file_path = 'data/assignment_data.jsonl.bz2'\n",
    "df = spark.read.json(json_file_path, schema)\n",
    "df.show()"
   ]
  },
  {
   "cell_type": "markdown",
   "metadata": {},
   "source": [
    "How many sessions are in the dataset:"
   ]
  },
  {
   "cell_type": "code",
   "execution_count": 2,
   "metadata": {},
   "outputs": [
    {
     "name": "stdout",
     "output_type": "stream",
     "text": [
      "+------------------+\n",
      "|number_of_sessions|\n",
      "+------------------+\n",
      "|            500587|\n",
      "+------------------+\n",
      "\n"
     ]
    }
   ],
   "source": [
    "df.registerTempTable('insights')\n",
    "number_sessions_query = \"select count(distinct session_id) as number_of_sessions from insights\"\n",
    "number_sessions = spark.sql(number_sessions_query)\n",
    "number_sessions.show()"
   ]
  },
  {
   "cell_type": "markdown",
   "metadata": {},
   "source": [
    "How many sessions are completed per country?\n"
   ]
  },
  {
   "cell_type": "code",
   "execution_count": 3,
   "metadata": {},
   "outputs": [
    {
     "name": "stdout",
     "output_type": "stream",
     "text": [
      "+-------+------------------+\n",
      "|country|number_of_sessions|\n",
      "+-------+------------------+\n",
      "|     DZ|              1953|\n",
      "|     MM|              1996|\n",
      "|     LT|              2276|\n",
      "|     TC|              2206|\n",
      "|     SC|              1774|\n",
      "|     AZ|              2670|\n",
      "|     FI|              2349|\n",
      "|     PM|              2112|\n",
      "|     UA|              2141|\n",
      "|     RO|              2550|\n",
      "|     KI|              1662|\n",
      "|     ZM|              1680|\n",
      "|     SL|              2202|\n",
      "|     LA|              2402|\n",
      "|     NL|              2247|\n",
      "|     SB|              1626|\n",
      "|     BS|              2239|\n",
      "|     BW|              2168|\n",
      "|     MN|              2365|\n",
      "|     PL|              2119|\n",
      "+-------+------------------+\n",
      "only showing top 20 rows\n",
      "\n"
     ]
    }
   ],
   "source": [
    "session_per_country_query = \"\"\"select t1.country, count(t1.session_id) as number_of_sessions from insights t1 \n",
    "                            inner join insights t2 on t1.session_id=t2.session_id and t1.event!=t2.event \n",
    "                            where t1.country!=\"\"  group by t1.country\"\"\"\n",
    "session_per_country = spark.sql(session_per_country_query)\n",
    "session_per_country.show()"
   ]
  },
  {
   "cell_type": "markdown",
   "metadata": {},
   "source": [
    "How many sessions per player:"
   ]
  },
  {
   "cell_type": "code",
   "execution_count": 4,
   "metadata": {},
   "outputs": [
    {
     "name": "stdout",
     "output_type": "stream",
     "text": [
      "+--------------------+------------------+\n",
      "|           player_id|number_of_sessions|\n",
      "+--------------------+------------------+\n",
      "|05e73a69c41943498...|                25|\n",
      "|465f81dfdee345669...|                33|\n",
      "|522a28a053a44af69...|                46|\n",
      "|3f282f08b347481b8...|                37|\n",
      "|cd5742d5ad5247a79...|                 3|\n",
      "|3e888630d54e4dde9...|                42|\n",
      "|3aa78890e9454b46b...|                20|\n",
      "|fffa44da04a24d799...|                27|\n",
      "|f147eebba02a4da3b...|                42|\n",
      "|37370d0139544d1ca...|                50|\n",
      "|e8f36a8efded42bfb...|                50|\n",
      "|293da457fd584ea18...|                34|\n",
      "|3cc80842b10c477d8...|                43|\n",
      "|0395b10232f34d3eb...|                49|\n",
      "|600894a22d3a4aa68...|                36|\n",
      "|2325e83bc1d14c4fb...|                38|\n",
      "|ec0a0483fddd4ebfa...|                49|\n",
      "|154470fc7c23483c8...|                37|\n",
      "|a677d0d5099d40008...|                46|\n",
      "|5f96555b2e074e7aa...|                12|\n",
      "+--------------------+------------------+\n",
      "only showing top 20 rows\n",
      "\n"
     ]
    }
   ],
   "source": [
    "session_per_player_query = \"\"\"select player_id, count(session_id) as number_of_sessions from insights \n",
    "                            where event = \"end\"\n",
    "                            group by player_id\"\"\"\n",
    "session_per_player = spark.sql(session_per_player_query)\n",
    "session_per_player.show()"
   ]
  },
  {
   "cell_type": "markdown",
   "metadata": {},
   "source": [
    "What is the country with more sessions started during 2018:"
   ]
  },
  {
   "cell_type": "code",
   "execution_count": 46,
   "metadata": {},
   "outputs": [
    {
     "name": "stdout",
     "output_type": "stream",
     "text": [
      "+-------+------------------+\n",
      "|country|number_of_sessions|\n",
      "+-------+------------------+\n",
      "+-------+------------------+\n",
      "\n"
     ]
    }
   ],
   "source": [
    "from pyspark.sql.functions import year\n",
    "country_sessions_2018_query= \"\"\"select country, count(session_id) as number_of_sessions from insights \n",
    "                            where year(ts) = \"2018\" and event = \"start\"\n",
    "                            group by country\"\"\"\n",
    "country_sessions_2018 = spark.sql(country_sessions_2018_query)\n",
    "country_sessions_2018.show()"
   ]
  },
  {
   "cell_type": "markdown",
   "metadata": {},
   "source": [
    "Plot the player sessions completed per country\n",
    "NOTE 1: I understood from this questions that \n",
    "you want a digram with number of sessions per country found in the question\n",
    "How many sessions are completed per country?\n",
    "NOTE 2: For stylistic purpose I limit the number of sessions per country to 20.\n",
    "To get all the results we should remove the limit\n",
    "\n"
   ]
  },
  {
   "cell_type": "code",
   "execution_count": 5,
   "metadata": {},
   "outputs": [
    {
     "data": {
      "text/plain": [
       "<AxesSubplot:xlabel='country'>"
      ]
     },
     "execution_count": 5,
     "metadata": {},
     "output_type": "execute_result"
    },
    {
     "data": {
      "image/png": "[encoded data removed]",
      "text/plain": [
       "<Figure size 432x288 with 1 Axes>"
      ]
     },
     "metadata": {
      "needs_background": "light"
     },
     "output_type": "display_data"
    }
   ],
   "source": [
    "import matplotlib.pyplot as plt\n",
    "pdf1=session_per_country.limit(20).toPandas()\n",
    "pdf1.plot(kind='bar',x='country',y='number_of_sessions',colormap='winter_r', rot=0)"
   ]
  },
  {
   "cell_type": "code",
   "execution_count": null,
   "metadata": {},
   "outputs": [],
   "source": []
  }
 ],
 "metadata": {
  "kernelspec": {
   "display_name": "player-session-insights",
   "language": "python",
   "name": "player-session-insights"
  },
  "language_info": {
   "codemirror_mode": {
    "name": "ipython",
    "version": 3
   },
   "file_extension": ".py",
   "mimetype": "text/x-python",
   "name": "python",
   "nbconvert_exporter": "python",
   "pygments_lexer": "ipython3",
   "version": "3.8.5"
  }
 },
 "nbformat": 4,
 "nbformat_minor": 2
}
